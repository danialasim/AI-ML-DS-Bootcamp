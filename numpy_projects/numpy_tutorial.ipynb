{
 "cells": [
  {
   "cell_type": "markdown",
   "metadata": {},
   "source": [
    "# NumPy Tutorial\n",
    "\n",
    "This notebook demonstrates the basic functionalities of NumPy, a fundamental package for scientific computing in Python."
   ]
  },
  {
   "cell_type": "code",
   "execution_count": 1,
   "metadata": {},
   "outputs": [],
   "source": [
    "import numpy as np"
   ]
  },
  {
   "cell_type": "markdown",
   "metadata": {},
   "source": [
    "## 1. Creating Arrays"
   ]
  },
  {
   "cell_type": "code",
   "execution_count": 2,
   "metadata": {},
   "outputs": [
    {
     "name": "stdout",
     "output_type": "stream",
     "text": [
      "1D array: [1 2 3 4 5]\n",
      "\n",
      "2D array:\n",
      "[[1 2 3]\n",
      " [4 5 6]]\n",
      "\n",
      "Array of zeros:\n",
      "[[0. 0. 0.]\n",
      " [0. 0. 0.]\n",
      " [0. 0. 0.]]\n",
      "\n",
      "Array of ones:\n",
      "[[1. 1.]\n",
      " [1. 1.]]\n",
      "\n",
      "Identity matrix:\n",
      "[[1. 0. 0.]\n",
      " [0. 1. 0.]\n",
      " [0. 0. 1.]]\n",
      "\n",
      "Array with range: [0 2 4 6 8]\n"
     ]
    }
   ],
   "source": [
    "# Create a 1D array\n",
    "arr1d = np.array([1, 2, 3, 4, 5])\n",
    "print(\"1D array:\", arr1d)\n",
    "\n",
    "# Create a 2D array\n",
    "arr2d = np.array([[1, 2, 3], [4, 5, 6]])\n",
    "print(\"\\n2D array:\")\n",
    "print(arr2d)\n",
    "\n",
    "# Create an array of zeros\n",
    "zeros = np.zeros((3, 3))\n",
    "print(\"\\nArray of zeros:\")\n",
    "print(zeros)\n",
    "\n",
    "# Create an array of ones\n",
    "ones = np.ones((2, 2))\n",
    "print(\"\\nArray of ones:\")\n",
    "print(ones)\n",
    "\n",
    "# Create an identity matrix\n",
    "identity = np.eye(3)\n",
    "print(\"\\nIdentity matrix:\")\n",
    "print(identity)\n",
    "\n",
    "# Create an array with a range of values\n",
    "range_arr = np.arange(0, 10, 2)\n",
    "print(\"\\nArray with range:\", range_arr)"
   ]
  },
  {
   "cell_type": "markdown",
   "metadata": {},
   "source": [
    "## 2. Array Operations"
   ]
  },
  {
   "cell_type": "code",
   "execution_count": 3,
   "metadata": {},
   "outputs": [
    {
     "name": "stdout",
     "output_type": "stream",
     "text": [
      "Addition: [5 7 9]\n",
      "Multiplication: [ 4 10 18]\n",
      "Dot product: 32\n",
      "\n",
      "Matrix multiplication:\n",
      "[[19 22]\n",
      " [43 50]]\n"
     ]
    }
   ],
   "source": [
    "a = np.array([1, 2, 3])\n",
    "b = np.array([4, 5, 6])\n",
    "\n",
    "# Element-wise addition\n",
    "print(\"Addition:\", a + b)\n",
    "\n",
    "# Element-wise multiplication\n",
    "print(\"Multiplication:\", a * b)\n",
    "\n",
    "# Dot product\n",
    "print(\"Dot product:\", np.dot(a, b))\n",
    "\n",
    "# Matrix multiplication\n",
    "A = np.array([[1, 2], [3, 4]])\n",
    "B = np.array([[5, 6], [7, 8]])\n",
    "print(\"\\nMatrix multiplication:\")\n",
    "print(np.matmul(A, B))"
   ]
  },
  {
   "cell_type": "markdown",
   "metadata": {},
   "source": [
    "## 3. Array Indexing and Slicing"
   ]
  },
  {
   "cell_type": "code",
   "execution_count": 4,
   "metadata": {},
   "outputs": [
    {
     "name": "stdout",
     "output_type": "stream",
     "text": [
      "Original array:\n",
      "[[ 1  2  3  4]\n",
      " [ 5  6  7  8]\n",
      " [ 9 10 11 12]]\n",
      "\n",
      "Element at index [1, 2]: 7\n",
      "\n",
      "First two rows, all columns:\n",
      "[[1 2 3 4]\n",
      " [5 6 7 8]]\n",
      "\n",
      "All rows, last two columns:\n",
      "[[ 3  4]\n",
      " [ 7  8]\n",
      " [11 12]]\n"
     ]
    }
   ],
   "source": [
    "arr = np.array([[1, 2, 3, 4], [5, 6, 7, 8], [9, 10, 11, 12]])\n",
    "print(\"Original array:\")\n",
    "print(arr)\n",
    "\n",
    "# Indexing\n",
    "print(\"\\nElement at index [1, 2]:\", arr[1, 2])\n",
    "\n",
    "# Slicing\n",
    "print(\"\\nFirst two rows, all columns:\")\n",
    "print(arr[:2, :])\n",
    "\n",
    "print(\"\\nAll rows, last two columns:\")\n",
    "print(arr[:, -2:])"
   ]
  },
  {
   "cell_type": "markdown",
   "metadata": {},
   "source": [
    "## 4. Broadcasting"
   ]
  },
  {
   "cell_type": "code",
   "execution_count": 5,
   "metadata": {},
   "outputs": [
    {
     "name": "stdout",
     "output_type": "stream",
     "text": [
      "Array a:\n",
      "[[1 2 3]\n",
      " [4 5 6]]\n",
      "\n",
      "Array b: [10 20 30]\n",
      "\n",
      "a + b (broadcasting):\n",
      "[[11 22 33]\n",
      " [14 25 36]]\n"
     ]
    }
   ],
   "source": [
    "# Broadcasting allows NumPy to work with arrays of different shapes\n",
    "a = np.array([[1, 2, 3], [4, 5, 6]])\n",
    "b = np.array([10, 20, 30])\n",
    "\n",
    "print(\"Array a:\")\n",
    "print(a)\n",
    "print(\"\\nArray b:\", b)\n",
    "\n",
    "print(\"\\na + b (broadcasting):\")\n",
    "print(a + b)"
   ]
  },
  {
   "cell_type": "markdown",
   "metadata": {},
   "source": [
    "## 5. Array Functions"
   ]
  },
  {
   "cell_type": "code",
   "execution_count": 6,
   "metadata": {},
   "outputs": [
    {
     "name": "stdout",
     "output_type": "stream",
     "text": [
      "Original array:\n",
      "[[1 2 3]\n",
      " [4 5 6]]\n",
      "\n",
      "Sum of all elements: 21\n",
      "Mean of all elements: 3.5\n",
      "Standard deviation: 1.707825127659933\n",
      "Minimum value: 1\n",
      "Maximum value: 6\n",
      "\n",
      "Sum along columns: [5 7 9]\n",
      "Sum along rows: [ 6 15]\n"
     ]
    }
   ],
   "source": [
    "arr = np.array([[1, 2, 3], [4, 5, 6]])\n",
    "print(\"Original array:\")\n",
    "print(arr)\n",
    "\n",
    "print(\"\\nSum of all elements:\", np.sum(arr))\n",
    "print(\"Mean of all elements:\", np.mean(arr))\n",
    "print(\"Standard deviation:\", np.std(arr))\n",
    "print(\"Minimum value:\", np.min(arr))\n",
    "print(\"Maximum value:\", np.max(arr))\n",
    "\n",
    "print(\"\\nSum along columns:\", np.sum(arr, axis=0))\n",
    "print(\"Sum along rows:\", np.sum(arr, axis=1))"
   ]
  },
  {
   "cell_type": "markdown",
   "metadata": {},
   "source": [
    "## 6. Reshaping Arrays"
   ]
  },
  {
   "cell_type": "code",
   "execution_count": 7,
   "metadata": {},
   "outputs": [
    {
     "name": "stdout",
     "output_type": "stream",
     "text": [
      "Original array: [ 0  1  2  3  4  5  6  7  8  9 10 11]\n",
      "\n",
      "Reshaped to 2D:\n",
      "[[ 0  1  2  3]\n",
      " [ 4  5  6  7]\n",
      " [ 8  9 10 11]]\n",
      "\n",
      "Flattened array: [ 0  1  2  3  4  5  6  7  8  9 10 11]\n"
     ]
    }
   ],
   "source": [
    "arr = np.arange(12)\n",
    "print(\"Original array:\", arr)\n",
    "\n",
    "# Reshape to 2D array\n",
    "arr_2d = arr.reshape(3, 4)\n",
    "print(\"\\nReshaped to 2D:\")\n",
    "print(arr_2d)\n",
    "\n",
    "# Flatten array\n",
    "print(\"\\nFlattened array:\", arr_2d.flatten())"
   ]
  },
  {
   "cell_type": "markdown",
   "metadata": {},
   "source": [
    "## 7. Random Number Generation"
   ]
  },
  {
   "cell_type": "code",
   "execution_count": 8,
   "metadata": {},
   "outputs": [
    {
     "name": "stdout",
     "output_type": "stream",
     "text": [
      "Random float between 0 and 1: 0.14603441992683797\n",
      "\n",
      "Array of random integers between 0 and 10:\n",
      "[[3 4 5]\n",
      " [9 2 0]\n",
      " [9 3 7]]\n",
      "\n",
      "Random numbers with seed:\n",
      "[0.37454012 0.95071431 0.73199394 0.59865848 0.15601864]\n"
     ]
    }
   ],
   "source": [
    "# Generate random numbers\n",
    "print(\"Random float between 0 and 1:\", np.random.random())\n",
    "print(\"\\nArray of random integers between 0 and 10:\")\n",
    "print(np.random.randint(0, 10, size=(3, 3)))\n",
    "\n",
    "# Set random seed for reproducibility\n",
    "np.random.seed(42)\n",
    "print(\"\\nRandom numbers with seed:\")\n",
    "print(np.random.rand(5))"
   ]
  }
 ],
 "metadata": {
  "kernelspec": {
   "display_name": "Python 3 (ipykernel)",
   "language": "python",
   "name": "python3"
  },
  "language_info": {
   "codemirror_mode": {
    "name": "ipython",
    "version": 3
   },
   "file_extension": ".py",
   "mimetype": "text/x-python",
   "name": "python",
   "nbconvert_exporter": "python",
   "pygments_lexer": "ipython3",
   "version": "3.13.0"
  }
 },
 "nbformat": 4,
 "nbformat_minor": 4
}
